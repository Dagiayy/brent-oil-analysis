{
 "cells": [
  {
   "cell_type": "code",
   "execution_count": null,
   "id": "e05a3c72",
   "metadata": {},
   "outputs": [
    {
     "name": "stderr",
     "output_type": "stream",
     "text": [
      "Sequential sampling (1 chains in 1 job)\n",
      "CompoundStep\n",
      ">Slice: [tau]\n",
      ">NUTS: [mu1, mu2, sigma]\n"
     ]
    },
    {
     "data": {
      "text/html": [
       "<pre style=\"white-space:pre;overflow-x:auto;line-height:normal;font-family:Menlo,'DejaVu Sans Mono',consolas,'Courier New',monospace\">c:\\Users\\123\\Desktop\\Kifiya AI &amp; ML\\week-10\\brent-oil-analysis\\venv\\Lib\\site-packages\\rich\\live.py:256: \n",
       "UserWarning: install \"ipywidgets\" for Jupyter support\n",
       "  warnings.warn('install \"ipywidgets\" for Jupyter support')\n",
       "</pre>\n"
      ],
      "text/plain": [
       "c:\\Users\\123\\Desktop\\Kifiya AI & ML\\week-10\\brent-oil-analysis\\venv\\Lib\\site-packages\\rich\\live.py:256: \n",
       "UserWarning: install \"ipywidgets\" for Jupyter support\n",
       "  warnings.warn('install \"ipywidgets\" for Jupyter support')\n"
      ]
     },
     "metadata": {},
     "output_type": "display_data"
    },
    {
     "data": {
      "text/html": [
       "<pre style=\"white-space:pre;overflow-x:auto;line-height:normal;font-family:Menlo,'DejaVu Sans Mono',consolas,'Courier New',monospace\">c:\\Users\\123\\Desktop\\Kifiya AI &amp; \n",
       "ML\\week-10\\brent-oil-analysis\\venv\\Lib\\site-packages\\pytensor\\scalar\\basic.py:2094: RuntimeWarning: overflow \n",
       "encountered in divide\n",
       "  return x / y\n",
       "</pre>\n"
      ],
      "text/plain": [
       "c:\\Users\\123\\Desktop\\Kifiya AI & \n",
       "ML\\week-10\\brent-oil-analysis\\venv\\Lib\\site-packages\\pytensor\\scalar\\basic.py:2094: RuntimeWarning: overflow \n",
       "encountered in divide\n",
       "  return x / y\n"
      ]
     },
     "metadata": {},
     "output_type": "display_data"
    },
    {
     "data": {
      "text/html": [
       "<pre style=\"white-space:pre;overflow-x:auto;line-height:normal;font-family:Menlo,'DejaVu Sans Mono',consolas,'Courier New',monospace\">c:\\Users\\123\\Desktop\\Kifiya AI &amp; \n",
       "ML\\week-10\\brent-oil-analysis\\venv\\Lib\\site-packages\\pytensor\\scalar\\basic.py:3297: RuntimeWarning: overflow \n",
       "encountered in scalar multiply\n",
       "  return x * x\n",
       "</pre>\n"
      ],
      "text/plain": [
       "c:\\Users\\123\\Desktop\\Kifiya AI & \n",
       "ML\\week-10\\brent-oil-analysis\\venv\\Lib\\site-packages\\pytensor\\scalar\\basic.py:3297: RuntimeWarning: overflow \n",
       "encountered in scalar multiply\n",
       "  return x * x\n"
      ]
     },
     "metadata": {},
     "output_type": "display_data"
    },
    {
     "data": {
      "text/html": [
       "<pre style=\"white-space:pre;overflow-x:auto;line-height:normal;font-family:Menlo,'DejaVu Sans Mono',consolas,'Courier New',monospace\">c:\\Users\\123\\Desktop\\Kifiya AI &amp; \n",
       "ML\\week-10\\brent-oil-analysis\\venv\\Lib\\site-packages\\pytensor\\tensor\\elemwise.py:1411: RuntimeWarning: invalid \n",
       "value encountered in reduce\n",
       "  out = self.ufunc.reduce(input, axis=axis, dtype=acc_dtype)\n",
       "</pre>\n"
      ],
      "text/plain": [
       "c:\\Users\\123\\Desktop\\Kifiya AI & \n",
       "ML\\week-10\\brent-oil-analysis\\venv\\Lib\\site-packages\\pytensor\\tensor\\elemwise.py:1411: RuntimeWarning: invalid \n",
       "value encountered in reduce\n",
       "  out = self.ufunc.reduce(input, axis=axis, dtype=acc_dtype)\n"
      ]
     },
     "metadata": {},
     "output_type": "display_data"
    },
    {
     "data": {
      "text/html": [
       "<pre style=\"white-space:pre;overflow-x:auto;line-height:normal;font-family:Menlo,'DejaVu Sans Mono',consolas,'Courier New',monospace\">c:\\Users\\123\\Desktop\\Kifiya AI &amp; \n",
       "ML\\week-10\\brent-oil-analysis\\venv\\Lib\\site-packages\\pytensor\\scalar\\basic.py:2094: RuntimeWarning: divide by zero \n",
       "encountered in divide\n",
       "  return x / y\n",
       "</pre>\n"
      ],
      "text/plain": [
       "c:\\Users\\123\\Desktop\\Kifiya AI & \n",
       "ML\\week-10\\brent-oil-analysis\\venv\\Lib\\site-packages\\pytensor\\scalar\\basic.py:2094: RuntimeWarning: divide by zero \n",
       "encountered in divide\n",
       "  return x / y\n"
      ]
     },
     "metadata": {},
     "output_type": "display_data"
    },
    {
     "data": {
      "text/html": [
       "<pre style=\"white-space:pre;overflow-x:auto;line-height:normal;font-family:Menlo,'DejaVu Sans Mono',consolas,'Courier New',monospace\"></pre>\n"
      ],
      "text/plain": []
     },
     "metadata": {},
     "output_type": "display_data"
    },
    {
     "name": "stderr",
     "output_type": "stream",
     "text": [
      "Sampling 1 chain for 100 tune and 100 draw iterations (100 + 100 draws total) took 2400 seconds.\n",
      "Only one chain was sampled, this makes it impossible to run some convergence checks\n",
      "arviz - WARNING - Shape validation failed: input_shape: (1, 100), minimum_shape: (chains=2, draws=4)\n"
     ]
    },
    {
     "name": "stdout",
     "output_type": "stream",
     "text": [
      "           mean       sd    hdi_3%   hdi_97%  mcse_mean  mcse_sd  ess_bulk  \\\n",
      "mu1       0.000     0.00    -0.000     0.001      0.000    0.000     120.0   \n",
      "mu2       0.000     0.00    -0.000     0.001      0.000    0.000      62.0   \n",
      "tau    4622.550  1005.56  3053.000  6256.000    130.414   73.849      62.0   \n",
      "sigma     0.026     0.00     0.025     0.026      0.000    0.000      27.0   \n",
      "\n",
      "       ess_tail  r_hat  \n",
      "mu1        77.0    NaN  \n",
      "mu2        77.0    NaN  \n",
      "tau        59.0    NaN  \n",
      "sigma      21.0    NaN  \n",
      "\n",
      "📍 Most probable change point date: 2005-07-19\n",
      "\n",
      "Estimated Mean Before Change: 0.00022\n",
      "Estimated Mean After Change:  0.00013\n",
      "Change in Mean:               -0.00009\n",
      "Probability After > Before:   45.00%\n"
     ]
    }
   ],
   "source": [
    "import pymc as pm\n",
    "import numpy as np\n",
    "import pandas as pd\n",
    "import matplotlib.pyplot as plt\n",
    "import arviz as az\n",
    "import os\n",
    "\n",
    "# === Load log returns data ===\n",
    "df = pd.read_csv('../data/processed/brent_log_returns.csv', parse_dates=['Date'])\n",
    "df.dropna(inplace=True)\n",
    "\n",
    "returns = df['Log_Return'].values\n",
    "n = len(returns)\n",
    "\n",
    "# === Bayesian Change Point Model ===\n",
    "with pm.Model() as model:\n",
    "    # Use a narrower range for tau to reduce computation\n",
    "    tau = pm.DiscreteUniform('tau', lower=int(n * 0.3), upper=int(n * 0.7))\n",
    "\n",
    "    # Priors for mean before and after change\n",
    "    mu1 = pm.Normal('mu1', mu=0, sigma=0.5)\n",
    "    mu2 = pm.Normal('mu2', mu=0, sigma=0.5)\n",
    "\n",
    "    # Shared standard deviation with tighter prior\n",
    "    sigma = pm.HalfNormal('sigma', sigma=0.5)\n",
    "\n",
    "    # Define piecewise mean based on tau\n",
    "    idx = np.arange(n)\n",
    "    mu = pm.Deterministic(\"mu\", pm.math.switch(idx < tau, mu1, mu2))\n",
    "\n",
    "    # Likelihood\n",
    "    obs = pm.Normal('obs', mu=mu, sigma=sigma, observed=returns)\n",
    "\n",
    "    # Use Slice sampler for tau (more efficient for discrete variables)\n",
    "    step1 = pm.Slice(vars=[tau])\n",
    "    step2 = pm.NUTS(vars=[mu1, mu2, sigma], target_accept=0.9)\n",
    "\n",
    "    # Reduced sampling for faster execution\n",
    "    trace = pm.sample(\n",
    "        draws=100,\n",
    "        tune=100,\n",
    "        chains=1,\n",
    "        cores=1,\n",
    "        step=[step1, step2],\n",
    "        return_inferencedata=True\n",
    "    )\n",
    "\n",
    "# === Save diagnostics summary ===\n",
    "os.makedirs('../outputs/logs', exist_ok=True)\n",
    "summary = az.summary(trace, var_names=[\"mu1\", \"mu2\", \"tau\", \"sigma\"])\n",
    "summary.to_csv('../outputs/logs/trace_summary.csv')\n",
    "print(summary)\n",
    "\n",
    "# === Plot traces ===\n",
    "os.makedirs('../outputs/figures', exist_ok=True)\n",
    "az.plot_trace(trace, var_names=[\"mu1\", \"mu2\", \"tau\", \"sigma\"])\n",
    "plt.savefig('../outputs/figures/change_point_traceplot.png')\n",
    "plt.close()\n",
    "\n",
    "# === Identify most probable change point ===\n",
    "most_probable_tau = int(trace.posterior['tau'].values[0].mean())\n",
    "change_date = df.iloc[most_probable_tau]['Date']\n",
    "print(f\"\\n📍 Most probable change point date: {change_date.date()}\")\n",
    "\n",
    "# === Quantify the impact of the change ===\n",
    "mu1_samples = trace.posterior['mu1'].values.flatten()\n",
    "mu2_samples = trace.posterior['mu2'].values.flatten()\n",
    "delta = mu2_samples - mu1_samples\n",
    "\n",
    "print(f\"\\nEstimated Mean Before Change: {np.mean(mu1_samples):.5f}\")\n",
    "print(f\"Estimated Mean After Change:  {np.mean(mu2_samples):.5f}\")\n",
    "print(f\"Change in Mean:               {np.mean(delta):.5f}\")\n",
    "print(f\"Probability After > Before:   {np.mean(mu2_samples > mu1_samples):.2%}\")\n",
    "\n",
    "\n",
    "\n",
    "# === Posterior distributions plot ===\n",
    "plt.figure(figsize=(8, 5))\n",
    "plt.hist(mu1_samples, bins=30, alpha=0.5, label='mu1 (Before)', color='skyblue')\n",
    "plt.hist(mu2_samples, bins=30, alpha=0.5, label='mu2 (After)', color='orange')\n",
    "plt.axvline(np.mean(mu1_samples), color='blue', linestyle='--')\n",
    "plt.axvline(np.mean(mu2_samples), color='red', linestyle='--')\n",
    "plt.legend()\n",
    "plt.title('Posterior Distributions of Mean Log Returns')\n",
    "plt.xlabel('Mean Log Return')\n",
    "plt.ylabel('Frequency')\n",
    "plt.savefig('../outputs/figures/posterior_mu_comparison.png')\n",
    "plt.close()"
   ]
  }
 ],
 "metadata": {
  "kernelspec": {
   "display_name": "base",
   "language": "python",
   "name": "python3"
  },
  "language_info": {
   "codemirror_mode": {
    "name": "ipython",
    "version": 3
   },
   "file_extension": ".py",
   "mimetype": "text/x-python",
   "name": "python",
   "nbconvert_exporter": "python",
   "pygments_lexer": "ipython3",
   "version": "3.12.4"
  }
 },
 "nbformat": 4,
 "nbformat_minor": 5
}
